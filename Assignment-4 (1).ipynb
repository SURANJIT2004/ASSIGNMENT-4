{
 "cells": [
  {
   "cell_type": "code",
   "execution_count": 6,
   "id": "01733138-5784-4255-9eed-a0bc7017bf16",
   "metadata": {},
   "outputs": [
    {
     "name": "stdout",
     "output_type": "stream",
     "text": [
      "Number of even numbers: 4\n",
      "Number of odd numbers: 5\n"
     ]
    }
   ],
   "source": [
    "# Not According to Question\n",
    "\n",
    "numbers = (1, 2, 3, 4, 5, 6, 7, 8, 9)\n",
    "count_odd = 0\n",
    "count_even = 0\n",
    "for x in numbers:\n",
    "    if not x % 2:  \n",
    "        count_even += 1\n",
    "    else:\n",
    "        count_odd += 1\n",
    "print(\"Number of even numbers:\", count_even)\n",
    "print(\"Number of odd numbers:\", count_odd) "
   ]
  },
  {
   "cell_type": "code",
   "execution_count": 5,
   "id": "8a6be584-b9b0-479c-9d64-beedbd703ad6",
   "metadata": {},
   "outputs": [
    {
     "name": "stdin",
     "output_type": "stream",
     "text": [
      "Enter a Sentence : This is a string with words of even and odd lengths\n"
     ]
    },
    {
     "name": "stdout",
     "output_type": "stream",
     "text": [
      "{'even': 6, 'odd': 5}\n"
     ]
    }
   ],
   "source": [
    "def count_odd_even(text):\n",
    "    word_count = {'even': 0, 'odd': 0}\n",
    "    for word in text.split():\n",
    "        if len(word) % 2 == 0:\n",
    "            word_count['even'] += 1\n",
    "        else:\n",
    "            word_count['odd'] += 1\n",
    "    return word_count\n",
    "text = input(\"Enter a Sentence :\")\n",
    "result = count_odd_even(text)\n",
    "print(result)\n"
   ]
  },
  {
   "cell_type": "code",
   "execution_count": 10,
   "id": "496ba0d0-63cd-4326-81af-c67ec4748075",
   "metadata": {},
   "outputs": [
    {
     "name": "stdout",
     "output_type": "stream",
     "text": [
      "Length of the string: 18\n",
      "Last 2 characters of the last word: ou\n",
      "'hello' not found in the string\n",
      "Uppercase: HELLO, HOW ARE YOU\n",
      "Lowercase: hello, how are you\n",
      "String is not in uppercase\n",
      "Comma separated words: Hello,, How, are, you\n",
      "Replaced 'Hello' with 'Hi': Hi, How are you\n"
     ]
    }
   ],
   "source": [
    "text = \"Hello, How are you\"\n",
    "\n",
    "# a. Length of the string\n",
    "text_length = len(text)\n",
    "print(\"Length of the string:\", text_length)\n",
    "\n",
    "# b. Print only 2 characters from the last word of the string\n",
    "last_word = text.split()[-1]\n",
    "last_two_chars = last_word[-2:]\n",
    "print(\"Last 2 characters of the last word:\", last_two_chars)  # Fix: typo in last_word\n",
    "\n",
    "# c. Find 'hello' in the string (case-sensitive)\n",
    "if \"hello\" in text:\n",
    "  print(\"Found 'hello' in the string\")\n",
    "else:\n",
    "  print(\"'hello' not found in the string\")\n",
    "\n",
    "# d. Change the lowercase letter to uppercase and vice versa\n",
    "upper_text = text.upper()\n",
    "lower_text = text.lower()\n",
    "print(\"Uppercase:\", upper_text)\n",
    "print(\"Lowercase:\", lower_text)\n",
    "\n",
    "# e. Check if the string is in uppercase or not\n",
    "if text == upper_text:\n",
    "  print(\"String is in uppercase\")\n",
    "else:\n",
    "  print(\"String is not in uppercase\")\n",
    "\n",
    "# f. Separate the words by a comma operator\n",
    "comma_separated = \", \".join(text.split())\n",
    "print(\"Comma separated words:\", comma_separated)\n",
    "\n",
    "# g. Replace the word 'Hello' by 'Hi'\n",
    "replaced_text = text.replace(\"Hello\", \"Hi\")\n",
    "print(\"Replaced 'Hello' with 'Hi':\", replaced_text)\n"
   ]
  },
  {
   "cell_type": "code",
   "execution_count": 2,
   "id": "fb485141-3319-4d8a-8e02-f6521c62f1fc",
   "metadata": {},
   "outputs": [
    {
     "name": "stdin",
     "output_type": "stream",
     "text": [
      "Enter the word balloon\n"
     ]
    },
    {
     "name": "stdout",
     "output_type": "stream",
     "text": [
      "bal*o*n\n"
     ]
    }
   ],
   "source": [
    "def compress_repetitive_chars(text):\n",
    "    compressed_text = []\n",
    "    prev_char = None\n",
    "    count = 0\n",
    "\n",
    "    for char in text:\n",
    "        if char != prev_char:\n",
    "            if count > 1:\n",
    "                compressed_text.append(\"*\")\n",
    "            compressed_text.append(char)\n",
    "            count = 1\n",
    "        else:\n",
    "            count += 1\n",
    "        prev_char = char\n",
    "\n",
    "    if count > 1:\n",
    "        compressed_text.append(\"*\")\n",
    "\n",
    "    return \"\".join(compressed_text)\n",
    "\n",
    "# Example usage\n",
    "text =input(\"Enter the word\")\n",
    "compressed_text = compress_repetitive_chars(text)\n",
    "print(compressed_text) \n"
   ]
  },
  {
   "cell_type": "code",
   "execution_count": 28,
   "id": "6aa13b01-a123-4402-88f8-6850adfef178",
   "metadata": {},
   "outputs": [
    {
     "name": "stdout",
     "output_type": "stream",
     "text": [
      "cinema and iceman are anagrams\n"
     ]
    }
   ],
   "source": [
    "def are_anagrams(str1, str2):\n",
    "    if len(str1) != len(str2):\n",
    "        return False\n",
    "\n",
    "    str1_clean = str1.lower().replace(\" \", \"\")\n",
    "    str2_clean = str2.lower().replace(\" \", \"\")\n",
    "    \n",
    "    char_count1 = {}\n",
    "    for char in str1_clean:\n",
    "        char_count1[char] = char_count1.get(char, 0) + 1\n",
    "\n",
    "    char_count2 = {}\n",
    "    for char in str2_clean:\n",
    "        char_count2[char] = char_count2.get(char, 0) + 1\n",
    "    return char_count1 == char_count2\n",
    "\n",
    "\n",
    "str1 = \"cinema\"\n",
    "str2 = \"iceman\"\n",
    "if are_anagrams(str1, str2):\n",
    "  print(f\"{str1} and {str2} are anagrams\")\n",
    "else:\n",
    "  print(f\"{str1} and {str2} are not anagrams\")\n"
   ]
  },
  {
   "cell_type": "code",
   "execution_count": 3,
   "id": "f9acf719-ec7d-4b98-aa2c-6694ffc66017",
   "metadata": {},
   "outputs": [
    {
     "name": "stdout",
     "output_type": "stream",
     "text": [
      "----bbcd\n"
     ]
    }
   ],
   "source": [
    "def replace_most_frequent(text):\n",
    "    char_count = {}\n",
    "    for char in text:\n",
    "        char_count[char] = char_count.get(char, 0) + 1\n",
    "\n",
    "    max_count = max(char_count.values())\n",
    "    most_frequent_char = max(char_count, key=char_count.get)\n",
    "\n",
    "    return text.replace(most_frequent_char, \"-\")\n",
    "\n",
    "\n",
    "text = \"aaaabbcd\"\n",
    "replaced_text = replace_most_frequent(text)\n",
    "print(replaced_text)\n"
   ]
  },
  {
   "cell_type": "code",
   "execution_count": 32,
   "id": "1fe5eba7-7282-438a-b3b0-5122e7b9a9ef",
   "metadata": {},
   "outputs": [
    {
     "name": "stdin",
     "output_type": "stream",
     "text": [
      "Enter a sentence This is a sample sentence to count words\n"
     ]
    },
    {
     "name": "stdout",
     "output_type": "stream",
     "text": [
      "The sentence has 8 words.\n"
     ]
    }
   ],
   "source": [
    "def count_words(sentence):\n",
    "    words = sentence.split()\n",
    "    return len(words)\n",
    "\n",
    "sentence = input(\"Enter a sentence\")\n",
    "word_count = count_words(sentence)\n",
    "print(f\"The sentence has {word_count} words.\")\n"
   ]
  },
  {
   "cell_type": "code",
   "execution_count": 34,
   "id": "afdce272-acf7-431d-bdad-8d51c7096f23",
   "metadata": {},
   "outputs": [
    {
     "name": "stdin",
     "output_type": "stream",
     "text": [
      "Enter the sentence this is a sample sentence\n"
     ]
    },
    {
     "name": "stdout",
     "output_type": "stream",
     "text": [
      "This Is A Sample Sentence\n"
     ]
    }
   ],
   "source": [
    "def capitalize_first_letters(sentence):\n",
    "    new_sentence = \"\"\n",
    "    is_first_word = True\n",
    "    for char in sentence:\n",
    "        if char.isalpha():\n",
    "            if is_first_word:\n",
    "                new_sentence += chr(ord(char) - 32)  \n",
    "                is_first_word = False\n",
    "            else:\n",
    "                new_sentence += char\n",
    "        else:\n",
    "            new_sentence += char\n",
    "            is_first_word = True \n",
    "\n",
    "    return new_sentence\n",
    "\n",
    "sentence =input(\"Enter the sentence\")\n",
    "capitalized_sentence = capitalize_first_letters(sentence)\n",
    "print(capitalized_sentence)  \n"
   ]
  },
  {
   "cell_type": "code",
   "execution_count": 41,
   "id": "83e4550d-ed90-4df7-95a7-96cc9ba366c3",
   "metadata": {},
   "outputs": [
    {
     "name": "stdout",
     "output_type": "stream",
     "text": [
      "['Kl', 'Gt']\n"
     ]
    }
   ],
   "source": [
    "def separate_string_by_vowels(string):\n",
    "    vowels = set(\"aeiouAEIOU\")\n",
    "    result = []\n",
    "    current_string = \"\"\n",
    "    for char in string:\n",
    "        if char in vowels:\n",
    "            if current_string:\n",
    "                result.append(current_string)\n",
    "            current_string = \"\"\n",
    "        else:\n",
    "            current_string += char\n",
    "\n",
    "\n",
    "    if current_string:\n",
    "        result.append(current_string)\n",
    "    return result\n",
    "\n",
    "\n",
    "\n",
    "\n",
    "test = \"KlaGt\"\n",
    "result = separate_string_by_vowels(test)\n",
    "print(result)"
   ]
  },
  {
   "cell_type": "code",
   "execution_count": 3,
   "id": "e4f72ace-6870-46c0-a276-8ca6bc27dfe5",
   "metadata": {},
   "outputs": [
    {
     "name": "stdin",
     "output_type": "stream",
     "text": [
      "Enter a positive integer:  2\n"
     ]
    },
    {
     "name": "stdout",
     "output_type": "stream",
     "text": [
      "3\n"
     ]
    }
   ],
   "source": [
    "def recursive_sum(n):\n",
    "    if n == 1:\n",
    "        return 1\n",
    "    else:\n",
    "        return n + recursive_sum(n-1)\n",
    "\n",
    "n = int(input(\"Enter a positive integer: \"))\n",
    "\n",
    "result = recursive_sum(n)\n",
    "print(result)\n"
   ]
  }
 ],
 "metadata": {
  "kernelspec": {
   "display_name": "Python 3 (ipykernel)",
   "language": "python",
   "name": "python3"
  },
  "language_info": {
   "codemirror_mode": {
    "name": "ipython",
    "version": 3
   },
   "file_extension": ".py",
   "mimetype": "text/x-python",
   "name": "python",
   "nbconvert_exporter": "python",
   "pygments_lexer": "ipython3",
   "version": "3.11.5"
  }
 },
 "nbformat": 4,
 "nbformat_minor": 5
}
